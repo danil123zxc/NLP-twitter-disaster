{
  "cells": [
    {
      "cell_type": "code",
      "execution_count": null,
      "id": "b64674c5",
      "metadata": {
        "execution": {
          "iopub.execute_input": "2025-07-27T13:42:29.464593Z",
          "iopub.status.busy": "2025-07-27T13:42:29.464382Z",
          "iopub.status.idle": "2025-07-27T13:42:46.795755Z",
          "shell.execute_reply": "2025-07-27T13:42:46.794940Z"
        },
        "papermill": {
          "duration": 17.339878,
          "end_time": "2025-07-27T13:42:46.797285",
          "exception": false,
          "start_time": "2025-07-27T13:42:29.457407",
          "status": "completed"
        },
        "tags": [],
        "id": "b64674c5",
        "outputId": "724651c4-3096-4379-ced5-1d685f9503d5"
      },
      "outputs": [
        {
          "name": "stderr",
          "output_type": "stream",
          "text": [
            "2025-07-27 13:42:32.292590: E external/local_xla/xla/stream_executor/cuda/cuda_fft.cc:477] Unable to register cuFFT factory: Attempting to register factory for plugin cuFFT when one has already been registered\n",
            "WARNING: All log messages before absl::InitializeLog() is called are written to STDERR\n",
            "E0000 00:00:1753623752.497542      19 cuda_dnn.cc:8310] Unable to register cuDNN factory: Attempting to register factory for plugin cuDNN when one has already been registered\n",
            "E0000 00:00:1753623752.558557      19 cuda_blas.cc:1418] Unable to register cuBLAS factory: Attempting to register factory for plugin cuBLAS when one has already been registered\n"
          ]
        },
        {
          "name": "stdout",
          "output_type": "stream",
          "text": [
            "Using TensorFlow backend\n"
          ]
        }
      ],
      "source": [
        "import numpy as np\n",
        "import pandas as pd\n",
        "import tensorflow as tf\n",
        "import keras_core as keras\n",
        "import keras_nlp\n",
        "from sklearn.metrics import ConfusionMatrixDisplay, confusion_matrix, classification_report\n",
        "import seaborn as sns\n",
        "import matplotlib.pyplot as plt\n",
        "from sklearn.model_selection import train_test_split\n",
        "from keras.models import load_model\n",
        "import keras_hub"
      ]
    },
    {
      "cell_type": "markdown",
      "source": [
        "## Data analysis and visualization"
      ],
      "metadata": {
        "id": "HCE093roVeE_"
      },
      "id": "HCE093roVeE_"
    },
    {
      "cell_type": "code",
      "execution_count": null,
      "id": "85811629",
      "metadata": {
        "execution": {
          "iopub.execute_input": "2025-07-27T13:42:46.809785Z",
          "iopub.status.busy": "2025-07-27T13:42:46.809352Z",
          "iopub.status.idle": "2025-07-27T13:42:46.863759Z",
          "shell.execute_reply": "2025-07-27T13:42:46.863192Z"
        },
        "papermill": {
          "duration": 0.061573,
          "end_time": "2025-07-27T13:42:46.864922",
          "exception": false,
          "start_time": "2025-07-27T13:42:46.803349",
          "status": "completed"
        },
        "tags": [],
        "id": "85811629"
      },
      "outputs": [],
      "source": [
        "train_df = pd.read_csv('/kaggle/input/nlp-getting-started/train.csv')\n",
        "test_df = pd.read_csv('/kaggle/input/nlp-getting-started/test.csv')"
      ]
    },
    {
      "cell_type": "code",
      "execution_count": null,
      "id": "1c9952bf",
      "metadata": {
        "execution": {
          "iopub.execute_input": "2025-07-27T13:42:46.876295Z",
          "iopub.status.busy": "2025-07-27T13:42:46.876072Z",
          "iopub.status.idle": "2025-07-27T13:42:46.902922Z",
          "shell.execute_reply": "2025-07-27T13:42:46.902337Z"
        },
        "papermill": {
          "duration": 0.033753,
          "end_time": "2025-07-27T13:42:46.904039",
          "exception": false,
          "start_time": "2025-07-27T13:42:46.870286",
          "status": "completed"
        },
        "tags": [],
        "id": "1c9952bf",
        "outputId": "b3695cfc-f559-44d7-f2d2-1fc9dd7f415f"
      },
      "outputs": [
        {
          "data": {
            "text/html": [
              "<div>\n",
              "<style scoped>\n",
              "    .dataframe tbody tr th:only-of-type {\n",
              "        vertical-align: middle;\n",
              "    }\n",
              "\n",
              "    .dataframe tbody tr th {\n",
              "        vertical-align: top;\n",
              "    }\n",
              "\n",
              "    .dataframe thead th {\n",
              "        text-align: right;\n",
              "    }\n",
              "</style>\n",
              "<table border=\"1\" class=\"dataframe\">\n",
              "  <thead>\n",
              "    <tr style=\"text-align: right;\">\n",
              "      <th></th>\n",
              "      <th>id</th>\n",
              "      <th>target</th>\n",
              "    </tr>\n",
              "  </thead>\n",
              "  <tbody>\n",
              "    <tr>\n",
              "      <th>count</th>\n",
              "      <td>7613.000000</td>\n",
              "      <td>7613.00000</td>\n",
              "    </tr>\n",
              "    <tr>\n",
              "      <th>mean</th>\n",
              "      <td>5441.934848</td>\n",
              "      <td>0.42966</td>\n",
              "    </tr>\n",
              "    <tr>\n",
              "      <th>std</th>\n",
              "      <td>3137.116090</td>\n",
              "      <td>0.49506</td>\n",
              "    </tr>\n",
              "    <tr>\n",
              "      <th>min</th>\n",
              "      <td>1.000000</td>\n",
              "      <td>0.00000</td>\n",
              "    </tr>\n",
              "    <tr>\n",
              "      <th>25%</th>\n",
              "      <td>2734.000000</td>\n",
              "      <td>0.00000</td>\n",
              "    </tr>\n",
              "    <tr>\n",
              "      <th>50%</th>\n",
              "      <td>5408.000000</td>\n",
              "      <td>0.00000</td>\n",
              "    </tr>\n",
              "    <tr>\n",
              "      <th>75%</th>\n",
              "      <td>8146.000000</td>\n",
              "      <td>1.00000</td>\n",
              "    </tr>\n",
              "    <tr>\n",
              "      <th>max</th>\n",
              "      <td>10873.000000</td>\n",
              "      <td>1.00000</td>\n",
              "    </tr>\n",
              "  </tbody>\n",
              "</table>\n",
              "</div>"
            ],
            "text/plain": [
              "                 id      target\n",
              "count   7613.000000  7613.00000\n",
              "mean    5441.934848     0.42966\n",
              "std     3137.116090     0.49506\n",
              "min        1.000000     0.00000\n",
              "25%     2734.000000     0.00000\n",
              "50%     5408.000000     0.00000\n",
              "75%     8146.000000     1.00000\n",
              "max    10873.000000     1.00000"
            ]
          },
          "execution_count": 3,
          "metadata": {},
          "output_type": "execute_result"
        }
      ],
      "source": [
        "train_df.describe()"
      ]
    },
    {
      "cell_type": "code",
      "execution_count": null,
      "id": "d0dc3747",
      "metadata": {
        "execution": {
          "iopub.execute_input": "2025-07-27T13:42:46.915864Z",
          "iopub.status.busy": "2025-07-27T13:42:46.915645Z",
          "iopub.status.idle": "2025-07-27T13:42:46.931774Z",
          "shell.execute_reply": "2025-07-27T13:42:46.931026Z"
        },
        "papermill": {
          "duration": 0.023269,
          "end_time": "2025-07-27T13:42:46.932829",
          "exception": false,
          "start_time": "2025-07-27T13:42:46.909560",
          "status": "completed"
        },
        "tags": [],
        "id": "d0dc3747",
        "outputId": "96014b01-af20-425d-830c-905e20d4db43"
      },
      "outputs": [
        {
          "name": "stdout",
          "output_type": "stream",
          "text": [
            "<class 'pandas.core.frame.DataFrame'>\n",
            "RangeIndex: 7613 entries, 0 to 7612\n",
            "Data columns (total 5 columns):\n",
            " #   Column    Non-Null Count  Dtype \n",
            "---  ------    --------------  ----- \n",
            " 0   id        7613 non-null   int64 \n",
            " 1   keyword   7552 non-null   object\n",
            " 2   location  5080 non-null   object\n",
            " 3   text      7613 non-null   object\n",
            " 4   target    7613 non-null   int64 \n",
            "dtypes: int64(2), object(3)\n",
            "memory usage: 297.5+ KB\n"
          ]
        }
      ],
      "source": [
        "train_df.info()"
      ]
    },
    {
      "cell_type": "code",
      "execution_count": null,
      "id": "b02cd025",
      "metadata": {
        "execution": {
          "iopub.execute_input": "2025-07-27T13:42:46.944982Z",
          "iopub.status.busy": "2025-07-27T13:42:46.944772Z",
          "iopub.status.idle": "2025-07-27T13:42:46.955232Z",
          "shell.execute_reply": "2025-07-27T13:42:46.954520Z"
        },
        "papermill": {
          "duration": 0.018164,
          "end_time": "2025-07-27T13:42:46.956374",
          "exception": false,
          "start_time": "2025-07-27T13:42:46.938210",
          "status": "completed"
        },
        "tags": [],
        "id": "b02cd025",
        "outputId": "53ae335a-3629-4f53-8063-095d2591e71b"
      },
      "outputs": [
        {
          "data": {
            "text/html": [
              "<div>\n",
              "<style scoped>\n",
              "    .dataframe tbody tr th:only-of-type {\n",
              "        vertical-align: middle;\n",
              "    }\n",
              "\n",
              "    .dataframe tbody tr th {\n",
              "        vertical-align: top;\n",
              "    }\n",
              "\n",
              "    .dataframe thead th {\n",
              "        text-align: right;\n",
              "    }\n",
              "</style>\n",
              "<table border=\"1\" class=\"dataframe\">\n",
              "  <thead>\n",
              "    <tr style=\"text-align: right;\">\n",
              "      <th></th>\n",
              "      <th>id</th>\n",
              "      <th>keyword</th>\n",
              "      <th>location</th>\n",
              "      <th>text</th>\n",
              "      <th>target</th>\n",
              "    </tr>\n",
              "  </thead>\n",
              "  <tbody>\n",
              "    <tr>\n",
              "      <th>0</th>\n",
              "      <td>1</td>\n",
              "      <td>NaN</td>\n",
              "      <td>NaN</td>\n",
              "      <td>Our Deeds are the Reason of this #earthquake M...</td>\n",
              "      <td>1</td>\n",
              "    </tr>\n",
              "    <tr>\n",
              "      <th>1</th>\n",
              "      <td>4</td>\n",
              "      <td>NaN</td>\n",
              "      <td>NaN</td>\n",
              "      <td>Forest fire near La Ronge Sask. Canada</td>\n",
              "      <td>1</td>\n",
              "    </tr>\n",
              "    <tr>\n",
              "      <th>2</th>\n",
              "      <td>5</td>\n",
              "      <td>NaN</td>\n",
              "      <td>NaN</td>\n",
              "      <td>All residents asked to 'shelter in place' are ...</td>\n",
              "      <td>1</td>\n",
              "    </tr>\n",
              "    <tr>\n",
              "      <th>3</th>\n",
              "      <td>6</td>\n",
              "      <td>NaN</td>\n",
              "      <td>NaN</td>\n",
              "      <td>13,000 people receive #wildfires evacuation or...</td>\n",
              "      <td>1</td>\n",
              "    </tr>\n",
              "    <tr>\n",
              "      <th>4</th>\n",
              "      <td>7</td>\n",
              "      <td>NaN</td>\n",
              "      <td>NaN</td>\n",
              "      <td>Just got sent this photo from Ruby #Alaska as ...</td>\n",
              "      <td>1</td>\n",
              "    </tr>\n",
              "    <tr>\n",
              "      <th>...</th>\n",
              "      <td>...</td>\n",
              "      <td>...</td>\n",
              "      <td>...</td>\n",
              "      <td>...</td>\n",
              "      <td>...</td>\n",
              "    </tr>\n",
              "    <tr>\n",
              "      <th>7608</th>\n",
              "      <td>10869</td>\n",
              "      <td>NaN</td>\n",
              "      <td>NaN</td>\n",
              "      <td>Two giant cranes holding a bridge collapse int...</td>\n",
              "      <td>1</td>\n",
              "    </tr>\n",
              "    <tr>\n",
              "      <th>7609</th>\n",
              "      <td>10870</td>\n",
              "      <td>NaN</td>\n",
              "      <td>NaN</td>\n",
              "      <td>@aria_ahrary @TheTawniest The out of control w...</td>\n",
              "      <td>1</td>\n",
              "    </tr>\n",
              "    <tr>\n",
              "      <th>7610</th>\n",
              "      <td>10871</td>\n",
              "      <td>NaN</td>\n",
              "      <td>NaN</td>\n",
              "      <td>M1.94 [01:04 UTC]?5km S of Volcano Hawaii. htt...</td>\n",
              "      <td>1</td>\n",
              "    </tr>\n",
              "    <tr>\n",
              "      <th>7611</th>\n",
              "      <td>10872</td>\n",
              "      <td>NaN</td>\n",
              "      <td>NaN</td>\n",
              "      <td>Police investigating after an e-bike collided ...</td>\n",
              "      <td>1</td>\n",
              "    </tr>\n",
              "    <tr>\n",
              "      <th>7612</th>\n",
              "      <td>10873</td>\n",
              "      <td>NaN</td>\n",
              "      <td>NaN</td>\n",
              "      <td>The Latest: More Homes Razed by Northern Calif...</td>\n",
              "      <td>1</td>\n",
              "    </tr>\n",
              "  </tbody>\n",
              "</table>\n",
              "<p>7613 rows × 5 columns</p>\n",
              "</div>"
            ],
            "text/plain": [
              "         id keyword location  \\\n",
              "0         1     NaN      NaN   \n",
              "1         4     NaN      NaN   \n",
              "2         5     NaN      NaN   \n",
              "3         6     NaN      NaN   \n",
              "4         7     NaN      NaN   \n",
              "...     ...     ...      ...   \n",
              "7608  10869     NaN      NaN   \n",
              "7609  10870     NaN      NaN   \n",
              "7610  10871     NaN      NaN   \n",
              "7611  10872     NaN      NaN   \n",
              "7612  10873     NaN      NaN   \n",
              "\n",
              "                                                   text  target  \n",
              "0     Our Deeds are the Reason of this #earthquake M...       1  \n",
              "1                Forest fire near La Ronge Sask. Canada       1  \n",
              "2     All residents asked to 'shelter in place' are ...       1  \n",
              "3     13,000 people receive #wildfires evacuation or...       1  \n",
              "4     Just got sent this photo from Ruby #Alaska as ...       1  \n",
              "...                                                 ...     ...  \n",
              "7608  Two giant cranes holding a bridge collapse int...       1  \n",
              "7609  @aria_ahrary @TheTawniest The out of control w...       1  \n",
              "7610  M1.94 [01:04 UTC]?5km S of Volcano Hawaii. htt...       1  \n",
              "7611  Police investigating after an e-bike collided ...       1  \n",
              "7612  The Latest: More Homes Razed by Northern Calif...       1  \n",
              "\n",
              "[7613 rows x 5 columns]"
            ]
          },
          "execution_count": 5,
          "metadata": {},
          "output_type": "execute_result"
        }
      ],
      "source": [
        "train_df"
      ]
    },
    {
      "cell_type": "code",
      "execution_count": null,
      "id": "1898cedf",
      "metadata": {
        "execution": {
          "iopub.execute_input": "2025-07-27T13:42:46.968553Z",
          "iopub.status.busy": "2025-07-27T13:42:46.968351Z",
          "iopub.status.idle": "2025-07-27T13:42:46.977875Z",
          "shell.execute_reply": "2025-07-27T13:42:46.977187Z"
        },
        "papermill": {
          "duration": 0.016855,
          "end_time": "2025-07-27T13:42:46.978977",
          "exception": false,
          "start_time": "2025-07-27T13:42:46.962122",
          "status": "completed"
        },
        "tags": [],
        "id": "1898cedf"
      },
      "outputs": [],
      "source": [
        "train_df['length'] = train_df['text'].apply(lambda x: len(x))\n",
        "test_df['length'] = train_df['text'].apply(lambda x: len(x))"
      ]
    },
    {
      "cell_type": "code",
      "execution_count": null,
      "id": "5559d045",
      "metadata": {
        "execution": {
          "iopub.execute_input": "2025-07-27T13:42:46.990878Z",
          "iopub.status.busy": "2025-07-27T13:42:46.990676Z",
          "iopub.status.idle": "2025-07-27T13:42:46.998519Z",
          "shell.execute_reply": "2025-07-27T13:42:46.997994Z"
        },
        "papermill": {
          "duration": 0.014978,
          "end_time": "2025-07-27T13:42:46.999489",
          "exception": false,
          "start_time": "2025-07-27T13:42:46.984511",
          "status": "completed"
        },
        "tags": [],
        "id": "5559d045",
        "outputId": "90b52aff-b00f-4954-f239-f071e685991a"
      },
      "outputs": [
        {
          "name": "stdout",
          "output_type": "stream",
          "text": [
            "Train  \n",
            "count    7613.000000\n",
            "mean      101.037436\n",
            "std        33.781325\n",
            "min         7.000000\n",
            "25%        78.000000\n",
            "50%       107.000000\n",
            "75%       133.000000\n",
            "max       157.000000\n",
            "Name: length, dtype: float64\n",
            "\n",
            "Test \n",
            "count    3263.000000\n",
            "mean      100.581367\n",
            "std        34.308158\n",
            "min         7.000000\n",
            "25%        77.000000\n",
            "50%       107.000000\n",
            "75%       133.000000\n",
            "max       157.000000\n",
            "Name: length, dtype: float64\n"
          ]
        }
      ],
      "source": [
        "print(f'Train  \\n{train_df[\"length\"].describe()}\\n')\n",
        "print(f'Test \\n{test_df[\"length\"].describe()}')"
      ]
    },
    {
      "cell_type": "code",
      "execution_count": null,
      "id": "0c4ac927",
      "metadata": {
        "execution": {
          "iopub.execute_input": "2025-07-27T13:42:47.011503Z",
          "iopub.status.busy": "2025-07-27T13:42:47.011329Z",
          "iopub.status.idle": "2025-07-27T13:42:47.188116Z",
          "shell.execute_reply": "2025-07-27T13:42:47.187510Z"
        },
        "papermill": {
          "duration": 0.184197,
          "end_time": "2025-07-27T13:42:47.189220",
          "exception": false,
          "start_time": "2025-07-27T13:42:47.005023",
          "status": "completed"
        },
        "tags": [],
        "id": "0c4ac927",
        "outputId": "77b050e5-6e50-485a-fae0-e6af9bda9d36"
      },
      "outputs": [
        {
          "data": {
            "text/plain": [
              "<Axes: ylabel='length'>"
            ]
          },
          "execution_count": 8,
          "metadata": {},
          "output_type": "execute_result"
        },
        {
          "data": {
            "image/png": "[encoded data removed]",
            "text/plain": [
              "<Figure size 1000x600 with 1 Axes>"
            ]
          },
          "metadata": {},
          "output_type": "display_data"
        }
      ],
      "source": [
        "plt.figure(figsize=(10, 6))\n",
        "sns.boxplot(y='length', data=train_df)"
      ]
    },
    {
      "cell_type": "code",
      "execution_count": null,
      "id": "d693c293",
      "metadata": {
        "execution": {
          "iopub.execute_input": "2025-07-27T13:42:47.202313Z",
          "iopub.status.busy": "2025-07-27T13:42:47.202124Z",
          "iopub.status.idle": "2025-07-27T13:42:47.209287Z",
          "shell.execute_reply": "2025-07-27T13:42:47.208592Z"
        },
        "papermill": {
          "duration": 0.014978,
          "end_time": "2025-07-27T13:42:47.210425",
          "exception": false,
          "start_time": "2025-07-27T13:42:47.195447",
          "status": "completed"
        },
        "tags": [],
        "id": "d693c293"
      },
      "outputs": [],
      "source": [
        "#Filling NaNs\n",
        "train_df = train_df.fillna('')\n",
        "test_df = test_df.fillna('')"
      ]
    },
    {
      "cell_type": "code",
      "execution_count": null,
      "id": "2c107e37",
      "metadata": {
        "execution": {
          "iopub.execute_input": "2025-07-27T13:42:47.223205Z",
          "iopub.status.busy": "2025-07-27T13:42:47.223005Z",
          "iopub.status.idle": "2025-07-27T13:42:47.320892Z",
          "shell.execute_reply": "2025-07-27T13:42:47.320190Z"
        },
        "papermill": {
          "duration": 0.105466,
          "end_time": "2025-07-27T13:42:47.321898",
          "exception": false,
          "start_time": "2025-07-27T13:42:47.216432",
          "status": "completed"
        },
        "tags": [],
        "id": "2c107e37",
        "outputId": "c10adcac-4508-42b5-fe8c-58a1e8bf1748"
      },
      "outputs": [
        {
          "data": {
            "image/png": "[encoded data removed]",
            "text/plain": [
              "<Figure size 1000x600 with 1 Axes>"
            ]
          },
          "metadata": {},
          "output_type": "display_data"
        }
      ],
      "source": [
        "#Data distribution\n",
        "plt.figure(figsize=(10, 6))\n",
        "plt.pie(train_df['target'].value_counts(), labels=[\"No\", \"Yes\"], startangle=90, shadow=True, autopct='%.1f')\n",
        "plt.title(\"Is disaster?\")\n",
        "plt.show()"
      ]
    },
    {
      "cell_type": "markdown",
      "id": "f8e74348",
      "metadata": {
        "papermill": {
          "duration": 0.006169,
          "end_time": "2025-07-27T13:42:47.334382",
          "exception": false,
          "start_time": "2025-07-27T13:42:47.328213",
          "status": "completed"
        },
        "tags": [],
        "id": "f8e74348"
      },
      "source": [
        "## Text preprocessing and data augmentation"
      ]
    },
    {
      "cell_type": "code",
      "execution_count": null,
      "id": "b5a1e2a5",
      "metadata": {
        "execution": {
          "iopub.execute_input": "2025-07-27T13:42:47.347674Z",
          "iopub.status.busy": "2025-07-27T13:42:47.347434Z",
          "iopub.status.idle": "2025-07-27T13:42:47.351651Z",
          "shell.execute_reply": "2025-07-27T13:42:47.350977Z"
        },
        "papermill": {
          "duration": 0.012242,
          "end_time": "2025-07-27T13:42:47.352801",
          "exception": false,
          "start_time": "2025-07-27T13:42:47.340559",
          "status": "completed"
        },
        "tags": [],
        "id": "b5a1e2a5"
      },
      "outputs": [],
      "source": [
        "def cast_to_dataset(text, label=None):\n",
        "    '''\n",
        "    Converts numpy arrays of text (and labels, if provided) into a `tf.data.Dataset` object.\n",
        "\n",
        "    Args:\n",
        "        text (np.ndarray): Array of input text strings.\n",
        "        label (np.ndarray, optional): Array of labels corresponding to each text. Defaults to None.\n",
        "\n",
        "    Returns:\n",
        "        tf.data.Dataset: A dataset containing `(text, label)` pairs if `label` is provided,\n",
        "                         otherwise just `text` elements.\n",
        "    '''\n",
        "    # Ensure text is a numpy array; otherwise, we can't use from_tensor_slices directly.\n",
        "    if isinstance(text, np.ndarray):\n",
        "        if label is not None:\n",
        "            # Create dataset of (text, label) pairs\n",
        "            dataset = tf.data.Dataset.from_tensor_slices((text, label))\n",
        "        else:\n",
        "            # Create dataset of text only\n",
        "            dataset = tf.data.Dataset.from_tensor_slices(text)\n",
        "    return dataset"
      ]
    },
    {
      "cell_type": "code",
      "execution_count": null,
      "id": "ef4c31e3",
      "metadata": {
        "execution": {
          "iopub.execute_input": "2025-07-27T13:42:47.365985Z",
          "iopub.status.busy": "2025-07-27T13:42:47.365782Z",
          "iopub.status.idle": "2025-07-27T13:42:47.370013Z",
          "shell.execute_reply": "2025-07-27T13:42:47.369351Z"
        },
        "papermill": {
          "duration": 0.012122,
          "end_time": "2025-07-27T13:42:47.371131",
          "exception": false,
          "start_time": "2025-07-27T13:42:47.359009",
          "status": "completed"
        },
        "tags": [],
        "id": "ef4c31e3"
      },
      "outputs": [],
      "source": [
        "def replace_special_characters(text, label=None):\n",
        "    \"\"\"\n",
        "    Cleans a given text tensor by applying a series of text normalization steps:\n",
        "        1. Replaces any link with the placeholder [link].\n",
        "        2. Removes all characters except alphabetic letters, spaces, '!', and '[]'.\n",
        "        3. Converts all text to lowercase.\n",
        "        4. Replaces multiple spaces in a row with a single space.\n",
        "\n",
        "    Args:\n",
        "        text (tf.Tensor): Input text tensor to be cleaned.\n",
        "        label (tf.Tensor, optional): Label associated with the text (returned unchanged).\n",
        "\n",
        "    Returns:\n",
        "        Tuple[tf.Tensor, tf.Tensor]: A tuple of (cleaned text, unchanged label).\n",
        "    \"\"\"\n",
        "\n",
        "    # Replace URLs with a placeholder\n",
        "    text = tf.strings.regex_replace(text, '(https?://\\S+|www\\.\\S+)', '[link]')\n",
        "    # Remove non-alphabetic characters except '!', '[', and ']'\n",
        "    text = tf.strings.regex_replace(text, r'[^a-zA-Z !\\[\\]]', '')\n",
        "    # Convert to lowercase\n",
        "    text = tf.strings.lower(text)\n",
        "    # Normalize multiple spaces to a single space\n",
        "    text = tf.strings.regex_replace(text, r'\\s{2,}', ' ')\n",
        "\n",
        "    return text, label"
      ]
    },
    {
      "cell_type": "code",
      "execution_count": null,
      "id": "23561f14",
      "metadata": {
        "execution": {
          "iopub.execute_input": "2025-07-27T13:42:47.384462Z",
          "iopub.status.busy": "2025-07-27T13:42:47.384264Z",
          "iopub.status.idle": "2025-07-27T13:42:47.389307Z",
          "shell.execute_reply": "2025-07-27T13:42:47.388668Z"
        },
        "papermill": {
          "duration": 0.01285,
          "end_time": "2025-07-27T13:42:47.390311",
          "exception": false,
          "start_time": "2025-07-27T13:42:47.377461",
          "status": "completed"
        },
        "tags": [],
        "id": "23561f14"
      },
      "outputs": [],
      "source": [
        "def make_augment_text(random_swap, random_deletion):\n",
        "    '''\n",
        "    Creates a function to apply text data augmentation using RandomSwap and RandomDeletion layers.\n",
        "\n",
        "    The returned function takes a single `(text, label)` pair, applies both augmentations,\n",
        "    and returns a dataset containing the original text, swapped version, and deleted version,\n",
        "    all with the same label.\n",
        "\n",
        "    Args:\n",
        "        random_swap (keras_hub.layers.RandomSwap): A layer that randomly swaps tokens.\n",
        "        random_deletion (keras_hub.layers.RandomDeletion): A layer that randomly deletes tokens.\n",
        "\n",
        "    Returns:\n",
        "        Callable: A function that takes `(x, y)` and returns a dataset with three versions of the text.\n",
        "    '''\n",
        "    def augment_text(x, y):\n",
        "        # Tokenize the input text into individual tokens\n",
        "        tokens = tf.strings.split(x)\n",
        "        tokens = tf.expand_dims(tokens, axis=0)  # Add batch dimension since layers expect batched input\n",
        "\n",
        "        # Apply random swapping of tokens\n",
        "        swapped = random_swap(tokens)\n",
        "        # Apply random deletion of tokens\n",
        "        deleted = random_deletion(tokens)\n",
        "\n",
        "        # Convert tokens back to strings\n",
        "        swapped_text = tf.strings.reduce_join(swapped, axis=-1, separator=' ')\n",
        "        deleted_text = tf.strings.reduce_join(deleted, axis=-1, separator=' ')\n",
        "\n",
        "        # Construct a dataset containing original, swapped, and deleted versions\n",
        "        ds = tf.data.Dataset.from_tensors((x, y))\n",
        "        ds = ds.concatenate(tf.data.Dataset.from_tensors((swapped_text[0], y)))\n",
        "        ds = ds.concatenate(tf.data.Dataset.from_tensors((deleted_text[0], y)))\n",
        "        return ds\n",
        "    return augment_text"
      ]
    },
    {
      "cell_type": "code",
      "execution_count": null,
      "id": "4f46f71f",
      "metadata": {
        "execution": {
          "iopub.execute_input": "2025-07-27T13:42:47.403949Z",
          "iopub.status.busy": "2025-07-27T13:42:47.403774Z",
          "iopub.status.idle": "2025-07-27T13:42:47.408244Z",
          "shell.execute_reply": "2025-07-27T13:42:47.407743Z"
        },
        "papermill": {
          "duration": 0.012661,
          "end_time": "2025-07-27T13:42:47.409261",
          "exception": false,
          "start_time": "2025-07-27T13:42:47.396600",
          "status": "completed"
        },
        "tags": [],
        "id": "4f46f71f"
      },
      "outputs": [],
      "source": [
        "def preprocess_dataset(text, batch_size, label=None, augment=False, rs_rate=0.4, rd_rate=0.4, seed=42):\n",
        "    '''\n",
        "    Prepares a text dataset for training:\n",
        "        1. Converts text (and labels) into a `tf.data.Dataset`.\n",
        "        2. Applies text cleaning (removing special characters, links, etc.).\n",
        "        3. Optionally applies data augmentation using random swap and random deletion.\n",
        "        4. Batches, caches, and prefetches the dataset for efficient training.\n",
        "\n",
        "    Args:\n",
        "        text (np.ndarray): Array of input text strings.\n",
        "        batch_size (int): Size of batches to create.\n",
        "        label (np.ndarray, optional): Array of labels corresponding to text. Defaults to None.\n",
        "        augment (bool, optional): Whether to apply data augmentation. Defaults to False.\n",
        "        rs_rate (float, optional): Rate parameter for RandomSwap. Defaults to 0.4.\n",
        "        rd_rate (float, optional): Rate parameter for RandomDeletion. Defaults to 0.4.\n",
        "        seed (int, optional): Random seed for augmentation layers. Defaults to 42.\n",
        "\n",
        "    Returns:\n",
        "        tf.data.Dataset: A preprocessed (and optionally augmented) dataset ready for training.\n",
        "    '''\n",
        "\n",
        "    # Step 1: Create dataset from raw arrays\n",
        "    processed_d = cast_to_dataset(text, label)\n",
        "\n",
        "    # Step 2: Apply text cleaning\n",
        "    processed_d = processed_d.map(replace_special_characters)\n",
        "\n",
        "    # Step 3: Apply data augmentation if requested\n",
        "    if augment:\n",
        "        random_swap = keras_hub.layers.RandomSwap(rate=rs_rate, seed=seed)\n",
        "        random_deletion = keras_hub.layers.RandomDeletion(rate=rd_rate, seed=seed)\n",
        "        augment_fn = make_augment_text(random_swap, random_deletion)\n",
        "\n",
        "        # flat_map expands dataset: each element becomes multiple elements (original + augmented)\n",
        "        processed_d = processed_d.flat_map(augment_fn)\n",
        "\n",
        "    # Step 4: Batch, cache, and prefetch for better performance\n",
        "    if label is not None:\n",
        "        AUTOTUNE = tf.data.AUTOTUNE\n",
        "        processed_d = processed_d.batch(batch_size).cache().prefetch(AUTOTUNE)\n",
        "    return processed_d"
      ]
    },
    {
      "cell_type": "code",
      "execution_count": null,
      "id": "23f0aa92",
      "metadata": {
        "execution": {
          "iopub.execute_input": "2025-07-27T13:42:47.422565Z",
          "iopub.status.busy": "2025-07-27T13:42:47.422365Z",
          "iopub.status.idle": "2025-07-27T13:42:47.426365Z",
          "shell.execute_reply": "2025-07-27T13:42:47.425874Z"
        },
        "papermill": {
          "duration": 0.011833,
          "end_time": "2025-07-27T13:42:47.427360",
          "exception": false,
          "start_time": "2025-07-27T13:42:47.415527",
          "status": "completed"
        },
        "tags": [],
        "id": "23f0aa92"
      },
      "outputs": [],
      "source": [
        "X = train_df['text'].astype(str).values\n",
        "y = train_df['target'].astype(np.float32).values\n",
        "X_test = test_df['text'].astype(str).values"
      ]
    },
    {
      "cell_type": "code",
      "execution_count": null,
      "id": "92a26e23",
      "metadata": {
        "execution": {
          "iopub.execute_input": "2025-07-27T13:42:47.440593Z",
          "iopub.status.busy": "2025-07-27T13:42:47.440394Z",
          "iopub.status.idle": "2025-07-27T13:42:47.445185Z",
          "shell.execute_reply": "2025-07-27T13:42:47.444672Z"
        },
        "papermill": {
          "duration": 0.012515,
          "end_time": "2025-07-27T13:42:47.446164",
          "exception": false,
          "start_time": "2025-07-27T13:42:47.433649",
          "status": "completed"
        },
        "tags": [],
        "id": "92a26e23",
        "outputId": "f1aeb280-6d49-4aa9-ba9b-5e591129f7fe"
      },
      "outputs": [
        {
          "name": "stdout",
          "output_type": "stream",
          "text": [
            "X_train length: 6090\n",
            "y_train length : 6090 \n",
            "X_val length: 1523\n",
            "y_val length: 1523 \n"
          ]
        }
      ],
      "source": [
        "#Splitting dataset into train and validation\n",
        "X_train, X_val, y_train, y_val = train_test_split(X, y, test_size=0.2, random_state=42, shuffle=True)\n",
        "print(f\"X_train length: {len(X_train)}\\ny_train length : {len(y_train)} \\nX_val length: {len(X_val)}\\ny_val length: {len(y_val)} \")"
      ]
    },
    {
      "cell_type": "code",
      "execution_count": null,
      "id": "6ff2f213",
      "metadata": {
        "execution": {
          "iopub.execute_input": "2025-07-27T13:42:47.460539Z",
          "iopub.status.busy": "2025-07-27T13:42:47.460338Z",
          "iopub.status.idle": "2025-07-27T13:42:49.738477Z",
          "shell.execute_reply": "2025-07-27T13:42:49.737913Z"
        },
        "papermill": {
          "duration": 2.286325,
          "end_time": "2025-07-27T13:42:49.739858",
          "exception": false,
          "start_time": "2025-07-27T13:42:47.453533",
          "status": "completed"
        },
        "tags": [],
        "id": "6ff2f213",
        "outputId": "620278f5-5eb2-4de6-8fa8-a14f3b8854e9"
      },
      "outputs": [
        {
          "name": "stderr",
          "output_type": "stream",
          "text": [
            "I0000 00:00:1753623768.520088      19 gpu_device.cc:2022] Created device /job:localhost/replica:0/task:0/device:GPU:0 with 15513 MB memory:  -> device: 0, name: Tesla P100-PCIE-16GB, pci bus id: 0000:00:04.0, compute capability: 6.0\n"
          ]
        }
      ],
      "source": [
        "prep_train = preprocess_dataset(X_train, 32, y_train, True)\n",
        "prep_val = preprocess_dataset(X_val, 32, y_val)\n",
        "prep_test = preprocess_dataset(X_test, 32)"
      ]
    },
    {
      "cell_type": "code",
      "execution_count": null,
      "id": "5f95acba",
      "metadata": {
        "execution": {
          "iopub.execute_input": "2025-07-27T13:42:49.754596Z",
          "iopub.status.busy": "2025-07-27T13:42:49.754400Z",
          "iopub.status.idle": "2025-07-27T13:42:49.759923Z",
          "shell.execute_reply": "2025-07-27T13:42:49.759383Z"
        },
        "papermill": {
          "duration": 0.01419,
          "end_time": "2025-07-27T13:42:49.760994",
          "exception": false,
          "start_time": "2025-07-27T13:42:49.746804",
          "status": "completed"
        },
        "tags": [],
        "id": "5f95acba"
      },
      "outputs": [],
      "source": [
        "def plot_history(history, title=''):\n",
        "    '''\n",
        "    Plots the training and validation loss/accuracy curves from a Keras History object.\n",
        "\n",
        "    Args:\n",
        "        history (tf.keras.callbacks.History):\n",
        "            The history object returned by `model.fit()`.\n",
        "            It contains metric values (e.g., loss, accuracy) for each epoch.\n",
        "        title (str, optional):\n",
        "            A prefix for the subplot titles (e.g., the model name or experiment name).\n",
        "            Defaults to an empty string.\n",
        "\n",
        "    Returns:\n",
        "        None. Displays a matplotlib plot with two subplots:\n",
        "        - Left: Training and validation loss over epochs.\n",
        "        - Right: Training and validation accuracy over epochs.\n",
        "    '''\n",
        "\n",
        "    # Create a figure with two subplots (1 row, 2 columns)\n",
        "    fig, (ax1, ax2) = plt.subplots(1, 2, figsize=(10, 4))\n",
        "\n",
        "    # ---- Loss subplot ----\n",
        "    ax1.plot(history.history['loss'], label='Loss')           # Training loss\n",
        "    ax1.plot(history.history['val_loss'], label='Val Loss')   # Validation loss\n",
        "    ax1.set_xlabel('Epochs')                                 # X-axis: epochs\n",
        "    ax1.set_ylabel('Loss')                                   # Y-axis: loss value\n",
        "    ax1.grid(True)                                           # Show grid for better readability\n",
        "    ax1.set_title(title + 'Loss')                            # Title of loss plot\n",
        "    ax1.legend()                                             # Display legend\n",
        "\n",
        "    # ---- Accuracy subplot ----\n",
        "    ax2.plot(history.history['accuracy'], label='Accuracy')        # Training accuracy\n",
        "    ax2.plot(history.history['val_accuracy'], label='Val Accuracy')# Validation accuracy\n",
        "    ax2.set_xlabel('Epochs')\n",
        "    ax2.set_ylabel('Accuracy')\n",
        "    ax2.grid(True)\n",
        "    ax2.set_title(title + 'Accuracy')\n",
        "    ax2.legend()\n",
        "\n",
        "    # Adjust spacing between subplots for clarity\n",
        "    plt.subplots_adjust(wspace=0.3, hspace=0.3)\n",
        "\n",
        "    # Display the plots\n",
        "    plt.show()\n"
      ]
    },
    {
      "cell_type": "markdown",
      "id": "18aefc74",
      "metadata": {
        "papermill": {
          "duration": 0.0062,
          "end_time": "2025-07-27T13:42:49.773606",
          "exception": false,
          "start_time": "2025-07-27T13:42:49.767406",
          "status": "completed"
        },
        "tags": [],
        "id": "18aefc74"
      },
      "source": [
        "## Creating DistilBERT model."
      ]
    },
    {
      "cell_type": "code",
      "execution_count": null,
      "id": "f2b36a1c",
      "metadata": {
        "execution": {
          "iopub.execute_input": "2025-07-27T13:42:49.787334Z",
          "iopub.status.busy": "2025-07-27T13:42:49.787146Z",
          "iopub.status.idle": "2025-07-27T13:42:49.791716Z",
          "shell.execute_reply": "2025-07-27T13:42:49.791175Z"
        },
        "papermill": {
          "duration": 0.012613,
          "end_time": "2025-07-27T13:42:49.792651",
          "exception": false,
          "start_time": "2025-07-27T13:42:49.780038",
          "status": "completed"
        },
        "tags": [],
        "id": "f2b36a1c"
      },
      "outputs": [],
      "source": [
        "preset= \"distil_bert_base_en_uncased\"\n",
        "name = \"preprocessor_4_tweets\"\n",
        "\n",
        "def initialize_model(dropout, preset, name, sequence_length, num_classes, freeze_layers=0):\n",
        "    '''\n",
        "    Creates a DistilBERT-based classifier model along with its preprocessor.\n",
        "\n",
        "    Steps:\n",
        "        1. Loads a DistilBERT preprocessor from the given preset with the specified sequence length.\n",
        "        2. Loads a DistilBERT classifier (with a classification head) initialized from the same preset.\n",
        "        3. Applies the specified dropout rate to the classifier.\n",
        "        4. Optionally freezes the first `freeze_layers` layers of the backbone (useful for fine-tuning).\n",
        "\n",
        "    Args:\n",
        "        dropout (float): Dropout rate for the classifier head.\n",
        "        preset (str): Name of the DistilBERT preset to load (e.g., \"distil_bert_base_en_uncased\").\n",
        "        name (str): Name to assign to the preprocessor model/layer.\n",
        "        sequence_length (int): Maximum number of tokens to consider for each input text.\n",
        "        num_classes (int): Number of output classes (defines classifier output size).\n",
        "        freeze_layers (int, optional): Number of initial layers to freeze in the backbone.\n",
        "                                       Freezes layers up to (freeze_layers - 1). Defaults to 0 (no freezing).\n",
        "\n",
        "    Returns:\n",
        "        classifier (tf.keras.Model): A Keras model that includes both the preprocessor and the DistilBERT backbone.\n",
        "    '''\n",
        "\n",
        "    # Load the preprocessor that handles tokenization, lowercasing, etc.\n",
        "    preprocessor = keras_hub.models.DistilBertPreprocessor.from_preset(\n",
        "        preset,\n",
        "        sequence_length=sequence_length,\n",
        "        name=name\n",
        "    )\n",
        "\n",
        "    # Load the classifier model from the same preset and attach the preprocessor.\n",
        "    # The classifier includes a classification head with `num_classes` outputs.\n",
        "    classifier = keras_hub.models.DistilBertClassifier.from_preset(\n",
        "        preset,\n",
        "        num_classes=num_classes,\n",
        "        preprocessor=preprocessor,\n",
        "        dropout=dropout\n",
        "    )\n",
        "\n",
        "    # Freeze the first `freeze_layers` layers of the backbone (for partial fine-tuning).\n",
        "    if freeze_layers:\n",
        "        for layer in classifier.backbone.layers[:freeze_layers]:\n",
        "            print(layer)  # Print frozen layer for debugging or logging purposes.\n",
        "            layer.trainable = False  # Disable training for this layer.\n",
        "\n",
        "    return classifier"
      ]
    },
    {
      "cell_type": "code",
      "execution_count": null,
      "id": "30e48034",
      "metadata": {
        "execution": {
          "iopub.execute_input": "2025-07-27T13:42:49.806010Z",
          "iopub.status.busy": "2025-07-27T13:42:49.805834Z",
          "iopub.status.idle": "2025-07-27T13:42:49.809957Z",
          "shell.execute_reply": "2025-07-27T13:42:49.809471Z"
        },
        "papermill": {
          "duration": 0.011874,
          "end_time": "2025-07-27T13:42:49.810940",
          "exception": false,
          "start_time": "2025-07-27T13:42:49.799066",
          "status": "completed"
        },
        "tags": [],
        "id": "30e48034"
      },
      "outputs": [],
      "source": [
        "def train_model(model, train, val, lr, callbacks, epochs):\n",
        "    '''\n",
        "    Compiles and trains a given TensorFlow/Keras model on the provided datasets.\n",
        "\n",
        "    Args:\n",
        "        model (tf.keras.Model): The Keras model to compile and train.\n",
        "        train (tf.data.Dataset): Training dataset.\n",
        "        val (tf.data.Dataset): Validation dataset.\n",
        "        lr (float): Learning rate for the AdamW optimizer.\n",
        "        callbacks (list): List of Keras callbacks to apply during training (e.g., EarlyStopping, ModelCheckpoint).\n",
        "        epochs (int): Number of epochs to train the model.\n",
        "\n",
        "    Returns:\n",
        "        history (tf.keras.callbacks.History): Training history object containing loss and metrics per epoch.\n",
        "        model (tf.keras.Model): The trained Keras model.\n",
        "    '''\n",
        "\n",
        "    # Compile the model with:\n",
        "    # - SparseCategoricalCrossentropy loss (with logits, so no softmax in output layer)\n",
        "    # - AdamW optimizer with specified learning rate\n",
        "    # - Accuracy metric for evaluation\n",
        "    model.compile(\n",
        "        loss=tf.keras.losses.SparseCategoricalCrossentropy(from_logits=True),\n",
        "        optimizer=tf.keras.optimizers.AdamW(lr),\n",
        "        metrics=['accuracy']\n",
        "    )\n",
        "\n",
        "    # Train the model using the train dataset, validate on val dataset,\n",
        "    # apply callbacks and train for the specified number of epochs\n",
        "    history = model.fit(\n",
        "        train,\n",
        "        callbacks=callbacks,\n",
        "        epochs=epochs,\n",
        "        validation_data=val\n",
        "    )\n",
        "\n",
        "    return history, model"
      ]
    },
    {
      "cell_type": "code",
      "execution_count": null,
      "id": "fcebfb07",
      "metadata": {
        "execution": {
          "iopub.execute_input": "2025-07-27T13:42:49.824150Z",
          "iopub.status.busy": "2025-07-27T13:42:49.823964Z",
          "iopub.status.idle": "2025-07-27T13:42:58.428175Z",
          "shell.execute_reply": "2025-07-27T13:42:58.427574Z"
        },
        "papermill": {
          "duration": 8.612001,
          "end_time": "2025-07-27T13:42:58.429191",
          "exception": false,
          "start_time": "2025-07-27T13:42:49.817190",
          "status": "completed"
        },
        "tags": [],
        "id": "fcebfb07",
        "outputId": "51e6e1e2-0052-4043-c8bf-a3acee909b09"
      },
      "outputs": [
        {
          "name": "stdout",
          "output_type": "stream",
          "text": [
            "<InputLayer name=token_ids, built=True>\n",
            "<TokenAndPositionEmbedding name=token_and_position_embedding, built=True>\n",
            "<LayerNormalization name=embeddings_layer_norm, built=True>\n",
            "<Dropout name=embeddings_dropout, built=True>\n",
            "<InputLayer name=padding_mask, built=True>\n",
            "<TransformerEncoder name=transformer_layer_0, built=True>\n",
            "<TransformerEncoder name=transformer_layer_1, built=True>\n",
            "<TransformerEncoder name=transformer_layer_2, built=True>\n"
          ]
        },
        {
          "data": {
            "text/html": [
              "<pre style=\"white-space:pre;overflow-x:auto;line-height:normal;font-family:Menlo,'DejaVu Sans Mono',consolas,'Courier New',monospace\"><span style=\"font-weight: bold\">Preprocessor: \"preprocessor_4_tweets\"</span>\n",
              "</pre>\n"
            ],
            "text/plain": [
              "\u001b[1mPreprocessor: \"preprocessor_4_tweets\"\u001b[0m\n"
            ]
          },
          "metadata": {},
          "output_type": "display_data"
        },
        {
          "data": {
            "text/html": [
              "<pre style=\"white-space:pre;overflow-x:auto;line-height:normal;font-family:Menlo,'DejaVu Sans Mono',consolas,'Courier New',monospace\">┏━━━━━━━━━━━━━━━━━━━━━━━━━━━━━━━━━━━━━━━━━━━━━━━━━━━━━━━━━━━━━━━┳━━━━━━━━━━━━━━━━━━━━━━━━━━━━━━━━━━━━━━━━━━┓\n",
              "┃<span style=\"font-weight: bold\"> Layer (type)                                                  </span>┃<span style=\"font-weight: bold\">                                   Config </span>┃\n",
              "┡━━━━━━━━━━━━━━━━━━━━━━━━━━━━━━━━━━━━━━━━━━━━━━━━━━━━━━━━━━━━━━━╇━━━━━━━━━━━━━━━━━━━━━━━━━━━━━━━━━━━━━━━━━━┩\n",
              "│ distil_bert_tokenizer (<span style=\"color: #0087ff; text-decoration-color: #0087ff\">DistilBertTokenizer</span>)                   │                       Vocab size: <span style=\"color: #00af00; text-decoration-color: #00af00\">30,522</span> │\n",
              "└───────────────────────────────────────────────────────────────┴──────────────────────────────────────────┘\n",
              "</pre>\n"
            ],
            "text/plain": [
              "┏━━━━━━━━━━━━━━━━━━━━━━━━━━━━━━━━━━━━━━━━━━━━━━━━━━━━━━━━━━━━━━━┳━━━━━━━━━━━━━━━━━━━━━━━━━━━━━━━━━━━━━━━━━━┓\n",
              "┃\u001b[1m \u001b[0m\u001b[1mLayer (type)                                                 \u001b[0m\u001b[1m \u001b[0m┃\u001b[1m \u001b[0m\u001b[1m                                  Config\u001b[0m\u001b[1m \u001b[0m┃\n",
              "┡━━━━━━━━━━━━━━━━━━━━━━━━━━━━━━━━━━━━━━━━━━━━━━━━━━━━━━━━━━━━━━━╇━━━━━━━━━━━━━━━━━━━━━━━━━━━━━━━━━━━━━━━━━━┩\n",
              "│ distil_bert_tokenizer (\u001b[38;5;33mDistilBertTokenizer\u001b[0m)                   │                       Vocab size: \u001b[38;5;34m30,522\u001b[0m │\n",
              "└───────────────────────────────────────────────────────────────┴──────────────────────────────────────────┘\n"
            ]
          },
          "metadata": {},
          "output_type": "display_data"
        },
        {
          "data": {
            "text/html": [
              "<pre style=\"white-space:pre;overflow-x:auto;line-height:normal;font-family:Menlo,'DejaVu Sans Mono',consolas,'Courier New',monospace\"><span style=\"font-weight: bold\">Model: \"distil_bert_text_classifier\"</span>\n",
              "</pre>\n"
            ],
            "text/plain": [
              "\u001b[1mModel: \"distil_bert_text_classifier\"\u001b[0m\n"
            ]
          },
          "metadata": {},
          "output_type": "display_data"
        },
        {
          "data": {
            "text/html": [
              "<pre style=\"white-space:pre;overflow-x:auto;line-height:normal;font-family:Menlo,'DejaVu Sans Mono',consolas,'Courier New',monospace\">┏━━━━━━━━━━━━━━━━━━━━━━━━━━━━━━━┳━━━━━━━━━━━━━━━━━━━━━━━━━━━┳━━━━━━━━━━━━━━━━━┳━━━━━━━━━━━━━━━━━━━━━━━━━━━━┓\n",
              "┃<span style=\"font-weight: bold\"> Layer (type)                  </span>┃<span style=\"font-weight: bold\"> Output Shape              </span>┃<span style=\"font-weight: bold\">         Param # </span>┃<span style=\"font-weight: bold\"> Connected to               </span>┃\n",
              "┡━━━━━━━━━━━━━━━━━━━━━━━━━━━━━━━╇━━━━━━━━━━━━━━━━━━━━━━━━━━━╇━━━━━━━━━━━━━━━━━╇━━━━━━━━━━━━━━━━━━━━━━━━━━━━┩\n",
              "│ padding_mask (<span style=\"color: #0087ff; text-decoration-color: #0087ff\">InputLayer</span>)     │ (<span style=\"color: #00d7ff; text-decoration-color: #00d7ff\">None</span>, <span style=\"color: #00d7ff; text-decoration-color: #00d7ff\">None</span>)              │               <span style=\"color: #00af00; text-decoration-color: #00af00\">0</span> │ -                          │\n",
              "├───────────────────────────────┼───────────────────────────┼─────────────────┼────────────────────────────┤\n",
              "│ token_ids (<span style=\"color: #0087ff; text-decoration-color: #0087ff\">InputLayer</span>)        │ (<span style=\"color: #00d7ff; text-decoration-color: #00d7ff\">None</span>, <span style=\"color: #00d7ff; text-decoration-color: #00d7ff\">None</span>)              │               <span style=\"color: #00af00; text-decoration-color: #00af00\">0</span> │ -                          │\n",
              "├───────────────────────────────┼───────────────────────────┼─────────────────┼────────────────────────────┤\n",
              "│ distil_bert_backbone          │ (<span style=\"color: #00d7ff; text-decoration-color: #00d7ff\">None</span>, <span style=\"color: #00d7ff; text-decoration-color: #00d7ff\">None</span>, <span style=\"color: #00af00; text-decoration-color: #00af00\">768</span>)         │      <span style=\"color: #00af00; text-decoration-color: #00af00\">66,362,880</span> │ padding_mask[<span style=\"color: #00af00; text-decoration-color: #00af00\">0</span>][<span style=\"color: #00af00; text-decoration-color: #00af00\">0</span>],        │\n",
              "│ (<span style=\"color: #0087ff; text-decoration-color: #0087ff\">DistilBertBackbone</span>)          │                           │                 │ token_ids[<span style=\"color: #00af00; text-decoration-color: #00af00\">0</span>][<span style=\"color: #00af00; text-decoration-color: #00af00\">0</span>]            │\n",
              "├───────────────────────────────┼───────────────────────────┼─────────────────┼────────────────────────────┤\n",
              "│ get_item (<span style=\"color: #0087ff; text-decoration-color: #0087ff\">GetItem</span>)            │ (<span style=\"color: #00d7ff; text-decoration-color: #00d7ff\">None</span>, <span style=\"color: #00af00; text-decoration-color: #00af00\">768</span>)               │               <span style=\"color: #00af00; text-decoration-color: #00af00\">0</span> │ distil_bert_backbone[<span style=\"color: #00af00; text-decoration-color: #00af00\">0</span>][<span style=\"color: #00af00; text-decoration-color: #00af00\">0</span>] │\n",
              "├───────────────────────────────┼───────────────────────────┼─────────────────┼────────────────────────────┤\n",
              "│ pooled_dense (<span style=\"color: #0087ff; text-decoration-color: #0087ff\">Dense</span>)          │ (<span style=\"color: #00d7ff; text-decoration-color: #00d7ff\">None</span>, <span style=\"color: #00af00; text-decoration-color: #00af00\">768</span>)               │         <span style=\"color: #00af00; text-decoration-color: #00af00\">590,592</span> │ get_item[<span style=\"color: #00af00; text-decoration-color: #00af00\">0</span>][<span style=\"color: #00af00; text-decoration-color: #00af00\">0</span>]             │\n",
              "├───────────────────────────────┼───────────────────────────┼─────────────────┼────────────────────────────┤\n",
              "│ output_dropout (<span style=\"color: #0087ff; text-decoration-color: #0087ff\">Dropout</span>)      │ (<span style=\"color: #00d7ff; text-decoration-color: #00d7ff\">None</span>, <span style=\"color: #00af00; text-decoration-color: #00af00\">768</span>)               │               <span style=\"color: #00af00; text-decoration-color: #00af00\">0</span> │ pooled_dense[<span style=\"color: #00af00; text-decoration-color: #00af00\">0</span>][<span style=\"color: #00af00; text-decoration-color: #00af00\">0</span>]         │\n",
              "├───────────────────────────────┼───────────────────────────┼─────────────────┼────────────────────────────┤\n",
              "│ logits (<span style=\"color: #0087ff; text-decoration-color: #0087ff\">Dense</span>)                │ (<span style=\"color: #00d7ff; text-decoration-color: #00d7ff\">None</span>, <span style=\"color: #00af00; text-decoration-color: #00af00\">2</span>)                 │           <span style=\"color: #00af00; text-decoration-color: #00af00\">1,538</span> │ output_dropout[<span style=\"color: #00af00; text-decoration-color: #00af00\">0</span>][<span style=\"color: #00af00; text-decoration-color: #00af00\">0</span>]       │\n",
              "└───────────────────────────────┴───────────────────────────┴─────────────────┴────────────────────────────┘\n",
              "</pre>\n"
            ],
            "text/plain": [
              "┏━━━━━━━━━━━━━━━━━━━━━━━━━━━━━━━┳━━━━━━━━━━━━━━━━━━━━━━━━━━━┳━━━━━━━━━━━━━━━━━┳━━━━━━━━━━━━━━━━━━━━━━━━━━━━┓\n",
              "┃\u001b[1m \u001b[0m\u001b[1mLayer (type)                 \u001b[0m\u001b[1m \u001b[0m┃\u001b[1m \u001b[0m\u001b[1mOutput Shape             \u001b[0m\u001b[1m \u001b[0m┃\u001b[1m \u001b[0m\u001b[1m        Param #\u001b[0m\u001b[1m \u001b[0m┃\u001b[1m \u001b[0m\u001b[1mConnected to              \u001b[0m\u001b[1m \u001b[0m┃\n",
              "┡━━━━━━━━━━━━━━━━━━━━━━━━━━━━━━━╇━━━━━━━━━━━━━━━━━━━━━━━━━━━╇━━━━━━━━━━━━━━━━━╇━━━━━━━━━━━━━━━━━━━━━━━━━━━━┩\n",
              "│ padding_mask (\u001b[38;5;33mInputLayer\u001b[0m)     │ (\u001b[38;5;45mNone\u001b[0m, \u001b[38;5;45mNone\u001b[0m)              │               \u001b[38;5;34m0\u001b[0m │ -                          │\n",
              "├───────────────────────────────┼───────────────────────────┼─────────────────┼────────────────────────────┤\n",
              "│ token_ids (\u001b[38;5;33mInputLayer\u001b[0m)        │ (\u001b[38;5;45mNone\u001b[0m, \u001b[38;5;45mNone\u001b[0m)              │               \u001b[38;5;34m0\u001b[0m │ -                          │\n",
              "├───────────────────────────────┼───────────────────────────┼─────────────────┼────────────────────────────┤\n",
              "│ distil_bert_backbone          │ (\u001b[38;5;45mNone\u001b[0m, \u001b[38;5;45mNone\u001b[0m, \u001b[38;5;34m768\u001b[0m)         │      \u001b[38;5;34m66,362,880\u001b[0m │ padding_mask[\u001b[38;5;34m0\u001b[0m][\u001b[38;5;34m0\u001b[0m],        │\n",
              "│ (\u001b[38;5;33mDistilBertBackbone\u001b[0m)          │                           │                 │ token_ids[\u001b[38;5;34m0\u001b[0m][\u001b[38;5;34m0\u001b[0m]            │\n",
              "├───────────────────────────────┼───────────────────────────┼─────────────────┼────────────────────────────┤\n",
              "│ get_item (\u001b[38;5;33mGetItem\u001b[0m)            │ (\u001b[38;5;45mNone\u001b[0m, \u001b[38;5;34m768\u001b[0m)               │               \u001b[38;5;34m0\u001b[0m │ distil_bert_backbone[\u001b[38;5;34m0\u001b[0m][\u001b[38;5;34m0\u001b[0m] │\n",
              "├───────────────────────────────┼───────────────────────────┼─────────────────┼────────────────────────────┤\n",
              "│ pooled_dense (\u001b[38;5;33mDense\u001b[0m)          │ (\u001b[38;5;45mNone\u001b[0m, \u001b[38;5;34m768\u001b[0m)               │         \u001b[38;5;34m590,592\u001b[0m │ get_item[\u001b[38;5;34m0\u001b[0m][\u001b[38;5;34m0\u001b[0m]             │\n",
              "├───────────────────────────────┼───────────────────────────┼─────────────────┼────────────────────────────┤\n",
              "│ output_dropout (\u001b[38;5;33mDropout\u001b[0m)      │ (\u001b[38;5;45mNone\u001b[0m, \u001b[38;5;34m768\u001b[0m)               │               \u001b[38;5;34m0\u001b[0m │ pooled_dense[\u001b[38;5;34m0\u001b[0m][\u001b[38;5;34m0\u001b[0m]         │\n",
              "├───────────────────────────────┼───────────────────────────┼─────────────────┼────────────────────────────┤\n",
              "│ logits (\u001b[38;5;33mDense\u001b[0m)                │ (\u001b[38;5;45mNone\u001b[0m, \u001b[38;5;34m2\u001b[0m)                 │           \u001b[38;5;34m1,538\u001b[0m │ output_dropout[\u001b[38;5;34m0\u001b[0m][\u001b[38;5;34m0\u001b[0m]       │\n",
              "└───────────────────────────────┴───────────────────────────┴─────────────────┴────────────────────────────┘\n"
            ]
          },
          "metadata": {},
          "output_type": "display_data"
        },
        {
          "data": {
            "text/html": [
              "<pre style=\"white-space:pre;overflow-x:auto;line-height:normal;font-family:Menlo,'DejaVu Sans Mono',consolas,'Courier New',monospace\"><span style=\"font-weight: bold\"> Total params: </span><span style=\"color: #00af00; text-decoration-color: #00af00\">66,955,010</span> (255.41 MB)\n",
              "</pre>\n"
            ],
            "text/plain": [
              "\u001b[1m Total params: \u001b[0m\u001b[38;5;34m66,955,010\u001b[0m (255.41 MB)\n"
            ]
          },
          "metadata": {},
          "output_type": "display_data"
        },
        {
          "data": {
            "text/html": [
              "<pre style=\"white-space:pre;overflow-x:auto;line-height:normal;font-family:Menlo,'DejaVu Sans Mono',consolas,'Courier New',monospace\"><span style=\"font-weight: bold\"> Trainable params: </span><span style=\"color: #00af00; text-decoration-color: #00af00\">21,855,746</span> (83.37 MB)\n",
              "</pre>\n"
            ],
            "text/plain": [
              "\u001b[1m Trainable params: \u001b[0m\u001b[38;5;34m21,855,746\u001b[0m (83.37 MB)\n"
            ]
          },
          "metadata": {},
          "output_type": "display_data"
        },
        {
          "data": {
            "text/html": [
              "<pre style=\"white-space:pre;overflow-x:auto;line-height:normal;font-family:Menlo,'DejaVu Sans Mono',consolas,'Courier New',monospace\"><span style=\"font-weight: bold\"> Non-trainable params: </span><span style=\"color: #00af00; text-decoration-color: #00af00\">45,099,264</span> (172.04 MB)\n",
              "</pre>\n"
            ],
            "text/plain": [
              "\u001b[1m Non-trainable params: \u001b[0m\u001b[38;5;34m45,099,264\u001b[0m (172.04 MB)\n"
            ]
          },
          "metadata": {},
          "output_type": "display_data"
        }
      ],
      "source": [
        "checkpoint_path = '/kaggle/working/best_model.weights.h5'\n",
        "lr = 1e-5\n",
        "dropout = 0.2\n",
        "freeze_layers = -3\n",
        "classifier = initialize_model(dropout, preset, name, sequence_length=157, num_classes=2, freeze_layers=freeze_layers)\n",
        "classifier.summary()"
      ]
    },
    {
      "cell_type": "code",
      "execution_count": null,
      "id": "5c8e3aa6",
      "metadata": {
        "execution": {
          "iopub.execute_input": "2025-07-27T13:42:58.445158Z",
          "iopub.status.busy": "2025-07-27T13:42:58.444577Z",
          "iopub.status.idle": "2025-07-27T13:42:58.594345Z",
          "shell.execute_reply": "2025-07-27T13:42:58.593686Z"
        },
        "papermill": {
          "duration": 0.158714,
          "end_time": "2025-07-27T13:42:58.595528",
          "exception": false,
          "start_time": "2025-07-27T13:42:58.436814",
          "status": "completed"
        },
        "tags": [],
        "id": "5c8e3aa6",
        "outputId": "1c7ceea6-6117-4b0b-8496-3ed021f080ab"
      },
      "outputs": [
        {
          "data": {
            "image/png": "[encoded data removed]",
            "text/plain": [
              "<IPython.core.display.Image object>"
            ]
          },
          "execution_count": 22,
          "metadata": {},
          "output_type": "execute_result"
        }
      ],
      "source": [
        "tf.keras.utils.plot_model(classifier)"
      ]
    },
    {
      "cell_type": "code",
      "execution_count": null,
      "id": "d6fa4e65",
      "metadata": {
        "execution": {
          "iopub.execute_input": "2025-07-27T13:42:58.612397Z",
          "iopub.status.busy": "2025-07-27T13:42:58.612200Z",
          "iopub.status.idle": "2025-07-27T13:42:58.615814Z",
          "shell.execute_reply": "2025-07-27T13:42:58.615302Z"
        },
        "papermill": {
          "duration": 0.013113,
          "end_time": "2025-07-27T13:42:58.616897",
          "exception": false,
          "start_time": "2025-07-27T13:42:58.603784",
          "status": "completed"
        },
        "tags": [],
        "id": "d6fa4e65"
      },
      "outputs": [],
      "source": [
        "#Initializing callbacks\n",
        "callbacks = [\n",
        "    tf.keras.callbacks.EarlyStopping(monitor='val_loss', patience=5),\n",
        "    tf.keras.callbacks.ModelCheckpoint(filepath=checkpoint_path, monitor='val_loss',save_best_only=True, save_weights_only=True),\n",
        "    tf.keras.callbacks.ReduceLROnPlateau()\n",
        "]"
      ]
    },
    {
      "cell_type": "code",
      "execution_count": null,
      "id": "0bf39b16",
      "metadata": {
        "execution": {
          "iopub.execute_input": "2025-07-27T13:42:58.676596Z",
          "iopub.status.busy": "2025-07-27T13:42:58.676338Z",
          "iopub.status.idle": "2025-07-27T13:56:30.704390Z",
          "shell.execute_reply": "2025-07-27T13:56:30.703459Z"
        },
        "papermill": {
          "duration": 812.081427,
          "end_time": "2025-07-27T13:56:30.705873",
          "exception": false,
          "start_time": "2025-07-27T13:42:58.624446",
          "status": "completed"
        },
        "tags": [],
        "id": "0bf39b16",
        "outputId": "041750fa-58ab-4222-f971-520e1d8b9286"
      },
      "outputs": [
        {
          "name": "stdout",
          "output_type": "stream",
          "text": [
            "Dropout : 0.2\n",
            "Learning_rate : 1e-05\n",
            "Frozen layers : -3\n",
            "Epoch 1/100\n"
          ]
        },
        {
          "name": "stderr",
          "output_type": "stream",
          "text": [
            "WARNING: All log messages before absl::InitializeLog() is called are written to STDERR\n",
            "I0000 00:00:1753623798.475687      57 service.cc:148] XLA service 0x78b0f000e7a0 initialized for platform CUDA (this does not guarantee that XLA will be used). Devices:\n",
            "I0000 00:00:1753623798.476316      57 service.cc:156]   StreamExecutor device (0): Tesla P100-PCIE-16GB, Compute Capability 6.0\n",
            "I0000 00:00:1753623800.299443      57 cuda_dnn.cc:529] Loaded cuDNN version 90300\n",
            "I0000 00:00:1753623812.664253      57 device_compiler.h:188] Compiled cluster using XLA!  This line is logged at most once for the lifetime of the process.\n"
          ]
        },
        {
          "name": "stdout",
          "output_type": "stream",
          "text": [
            "    571/Unknown \u001b[1m142s\u001b[0m 192ms/step - accuracy: 0.7089 - loss: 0.5546"
          ]
        },
        {
          "name": "stderr",
          "output_type": "stream",
          "text": [
            "/usr/local/lib/python3.11/dist-packages/keras/src/trainers/epoch_iterator.py:151: UserWarning: Your input ran out of data; interrupting training. Make sure that your dataset or generator can generate at least `steps_per_epoch * epochs` batches. You may need to use the `.repeat()` function when building your dataset.\n",
            "  self._interrupted_warning()\n"
          ]
        },
        {
          "name": "stdout",
          "output_type": "stream",
          "text": [
            "\u001b[1m571/571\u001b[0m \u001b[32m━━━━━━━━━━━━━━━━━━━━\u001b[0m\u001b[37m\u001b[0m \u001b[1m152s\u001b[0m 209ms/step - accuracy: 0.7090 - loss: 0.5545 - val_accuracy: 0.8313 - val_loss: 0.4022 - learning_rate: 1.0000e-05\n",
            "Epoch 2/100\n",
            "\u001b[1m571/571\u001b[0m \u001b[32m━━━━━━━━━━━━━━━━━━━━\u001b[0m\u001b[37m\u001b[0m \u001b[1m95s\u001b[0m 166ms/step - accuracy: 0.8095 - loss: 0.4282 - val_accuracy: 0.8326 - val_loss: 0.3926 - learning_rate: 1.0000e-05\n",
            "Epoch 3/100\n",
            "\u001b[1m571/571\u001b[0m \u001b[32m━━━━━━━━━━━━━━━━━━━━\u001b[0m\u001b[37m\u001b[0m \u001b[1m95s\u001b[0m 166ms/step - accuracy: 0.8273 - loss: 0.3996 - val_accuracy: 0.8352 - val_loss: 0.3905 - learning_rate: 1.0000e-05\n",
            "Epoch 4/100\n",
            "\u001b[1m571/571\u001b[0m \u001b[32m━━━━━━━━━━━━━━━━━━━━\u001b[0m\u001b[37m\u001b[0m \u001b[1m94s\u001b[0m 164ms/step - accuracy: 0.8376 - loss: 0.3777 - val_accuracy: 0.8359 - val_loss: 0.3928 - learning_rate: 1.0000e-05\n",
            "Epoch 5/100\n",
            "\u001b[1m571/571\u001b[0m \u001b[32m━━━━━━━━━━━━━━━━━━━━\u001b[0m\u001b[37m\u001b[0m \u001b[1m94s\u001b[0m 164ms/step - accuracy: 0.8493 - loss: 0.3507 - val_accuracy: 0.8293 - val_loss: 0.4006 - learning_rate: 1.0000e-05\n",
            "Epoch 6/100\n",
            "\u001b[1m571/571\u001b[0m \u001b[32m━━━━━━━━━━━━━━━━━━━━\u001b[0m\u001b[37m\u001b[0m \u001b[1m94s\u001b[0m 164ms/step - accuracy: 0.8651 - loss: 0.3253 - val_accuracy: 0.8273 - val_loss: 0.4169 - learning_rate: 1.0000e-05\n",
            "Epoch 7/100\n",
            "\u001b[1m571/571\u001b[0m \u001b[32m━━━━━━━━━━━━━━━━━━━━\u001b[0m\u001b[37m\u001b[0m \u001b[1m94s\u001b[0m 164ms/step - accuracy: 0.8776 - loss: 0.2974 - val_accuracy: 0.8234 - val_loss: 0.4367 - learning_rate: 1.0000e-05\n",
            "Epoch 8/100\n",
            "\u001b[1m571/571\u001b[0m \u001b[32m━━━━━━━━━━━━━━━━━━━━\u001b[0m\u001b[37m\u001b[0m \u001b[1m94s\u001b[0m 164ms/step - accuracy: 0.8943 - loss: 0.2638 - val_accuracy: 0.8194 - val_loss: 0.4849 - learning_rate: 1.0000e-05\n"
          ]
        },
        {
          "data": {
            "image/png": "[encoded data removed]",
            "text/plain": [
              "<Figure size 1000x400 with 2 Axes>"
            ]
          },
          "metadata": {},
          "output_type": "display_data"
        }
      ],
      "source": [
        "print(f'Dropout : {dropout}\\nLearning_rate : {lr}\\nFrozen layers : {freeze_layers}')\n",
        "\n",
        "history, classifier = train_model(classifier, prep_train, prep_val, lr, callbacks, 100)\n",
        "plot_history(history)"
      ]
    },
    {
      "cell_type": "markdown",
      "id": "8381af64",
      "metadata": {
        "papermill": {
          "duration": 0.191071,
          "end_time": "2025-07-27T13:56:31.089652",
          "exception": false,
          "start_time": "2025-07-27T13:56:30.898581",
          "status": "completed"
        },
        "tags": [],
        "id": "8381af64"
      },
      "source": [
        "## Making predictions on train, validation, test datasets and evaluating results"
      ]
    },
    {
      "cell_type": "code",
      "execution_count": null,
      "id": "74a43021",
      "metadata": {
        "execution": {
          "iopub.execute_input": "2025-07-27T13:56:31.469175Z",
          "iopub.status.busy": "2025-07-27T13:56:31.468280Z",
          "iopub.status.idle": "2025-07-27T13:56:32.045062Z",
          "shell.execute_reply": "2025-07-27T13:56:32.044469Z"
        },
        "papermill": {
          "duration": 0.768929,
          "end_time": "2025-07-27T13:56:32.046454",
          "exception": false,
          "start_time": "2025-07-27T13:56:31.277525",
          "status": "completed"
        },
        "tags": [],
        "id": "74a43021"
      },
      "outputs": [],
      "source": [
        "classifier.load_weights(checkpoint_path)"
      ]
    },
    {
      "cell_type": "code",
      "execution_count": null,
      "id": "54ad592c",
      "metadata": {
        "execution": {
          "iopub.execute_input": "2025-07-27T13:56:32.488592Z",
          "iopub.status.busy": "2025-07-27T13:56:32.488310Z",
          "iopub.status.idle": "2025-07-27T13:56:32.493275Z",
          "shell.execute_reply": "2025-07-27T13:56:32.492379Z"
        },
        "papermill": {
          "duration": 0.206746,
          "end_time": "2025-07-27T13:56:32.495110",
          "exception": false,
          "start_time": "2025-07-27T13:56:32.288364",
          "status": "completed"
        },
        "tags": [],
        "id": "54ad592c"
      },
      "outputs": [],
      "source": [
        "def plot_confusion_matrix(y, y_pred, dataset_title):\n",
        "    '''\n",
        "    Plots a confusion matrix for the given true and predicted labels.\n",
        "\n",
        "    Args:\n",
        "        y (array-like): True labels (ground truth).\n",
        "        y_pred (array-like): Predicted labels from the model.\n",
        "        dataset_title (str): Title to display above the confusion matrix.\n",
        "\n",
        "    Returns:\n",
        "        None. Displays a matplotlib plot of the confusion matrix.\n",
        "    '''\n",
        "\n",
        "    # Compute the confusion matrix\n",
        "    cm = confusion_matrix(y, y_pred)\n",
        "\n",
        "    # Create a ConfusionMatrixDisplay object with custom class labels\n",
        "    cm_display = ConfusionMatrixDisplay(\n",
        "        confusion_matrix=cm,\n",
        "        display_labels=['Not disaster', 'Disaster']\n",
        "    )\n",
        "\n",
        "    # Plot the confusion matrix using a blue color map\n",
        "    cm_display.plot(cmap='Blues')\n",
        "\n",
        "    # Set a title for the plot\n",
        "    cm_display.ax_.set_title(dataset_title)\n",
        "\n",
        "    # Display the plot\n",
        "    plt.show()\n"
      ]
    },
    {
      "cell_type": "code",
      "execution_count": null,
      "id": "a19fb49e",
      "metadata": {
        "execution": {
          "iopub.execute_input": "2025-07-27T13:56:32.907447Z",
          "iopub.status.busy": "2025-07-27T13:56:32.906582Z",
          "iopub.status.idle": "2025-07-27T13:56:32.911749Z",
          "shell.execute_reply": "2025-07-27T13:56:32.911156Z"
        },
        "papermill": {
          "duration": 0.200763,
          "end_time": "2025-07-27T13:56:32.912875",
          "exception": false,
          "start_time": "2025-07-27T13:56:32.712112",
          "status": "completed"
        },
        "tags": [],
        "id": "a19fb49e"
      },
      "outputs": [],
      "source": [
        "def make_prediction(dataset):\n",
        "    '''\n",
        "    Runs predictions on a given dataset using the global `classifier` model.\n",
        "\n",
        "    Steps:\n",
        "        1. Extracts only the input features (x) from the dataset.\n",
        "        2. Concatenates all true labels (y) into a single NumPy array.\n",
        "        3. Runs the model to get prediction probabilities.\n",
        "        4. Converts predicted probabilities to class indices using `argmax`.\n",
        "\n",
        "    Args:\n",
        "        dataset (tf.data.Dataset): A batched dataset of (text, label) pairs.\n",
        "\n",
        "    Returns:\n",
        "        y_true (np.ndarray): True labels from the dataset.\n",
        "        y_pred (np.ndarray): Predicted class indices.\n",
        "    '''\n",
        "\n",
        "    # Extract inputs (x) only, ignoring labels\n",
        "    ds_x = dataset.map(lambda x, y: x)\n",
        "\n",
        "    # NOTE: `first = next(iter(prep_test))` appears unused. Likely leftover code.\n",
        "    first = next(iter(prep_test))  # This line seems unnecessary, consider removing.\n",
        "\n",
        "    # Concatenate all labels into a single numpy array\n",
        "    y_true = tf.concat([y for _, y in dataset], axis=0).numpy()\n",
        "\n",
        "    # Predict probabilities using the classifier model\n",
        "    y_prob = classifier.predict(ds_x, verbose=0)\n",
        "\n",
        "    # Convert probabilities to class indices\n",
        "    y_pred = tf.argmax(y_prob, axis=1).numpy()\n",
        "\n",
        "    return y_true, y_pred\n"
      ]
    },
    {
      "cell_type": "code",
      "execution_count": null,
      "id": "4f741248",
      "metadata": {
        "execution": {
          "iopub.execute_input": "2025-07-27T13:56:33.294547Z",
          "iopub.status.busy": "2025-07-27T13:56:33.294266Z",
          "iopub.status.idle": "2025-07-27T13:56:33.299121Z",
          "shell.execute_reply": "2025-07-27T13:56:33.298542Z"
        },
        "papermill": {
          "duration": 0.197312,
          "end_time": "2025-07-27T13:56:33.300154",
          "exception": false,
          "start_time": "2025-07-27T13:56:33.102842",
          "status": "completed"
        },
        "tags": [],
        "id": "4f741248"
      },
      "outputs": [],
      "source": [
        "def output_predicted_text(target_value, predicted_value, amount=0):\n",
        "    '''\n",
        "    Prints examples where the predicted label differs from the true label.\n",
        "\n",
        "    Steps:\n",
        "        1. Iterates over true and predicted values (limited by `amount`).\n",
        "        2. Maps numerical labels (0/1) to text labels ('Not a disaster'/'Disaster').\n",
        "        3. Prints examples where prediction != target, showing the original text.\n",
        "\n",
        "    Args:\n",
        "        target_value (np.ndarray or list): Array of true labels (0/1).\n",
        "        predicted_value (np.ndarray or list): Array of predicted labels (0/1).\n",
        "        amount (int, optional): Number of samples to check.\n",
        "                                If 0, checks the entire dataset.\n",
        "\n",
        "    Returns:\n",
        "        None. Prints misclassified samples with their text and labels.\n",
        "    '''\n",
        "\n",
        "    index = 0\n",
        "    for target, pred in zip(target_value[:amount], predicted_value[:amount]):\n",
        "\n",
        "        # Convert numeric labels to human-readable text\n",
        "        target = 'Disaster' if target == 1 else 'Not a disaster'\n",
        "        pred = 'Disaster' if pred == 1 else 'Not a disaster'\n",
        "\n",
        "        # Print only misclassified examples\n",
        "        if target != pred:\n",
        "            print(f'{X_train[index]} Real target: {target} Predicted value : {pred}')\n",
        "\n",
        "        index += 1\n"
      ]
    },
    {
      "cell_type": "code",
      "execution_count": null,
      "id": "d3c93d77",
      "metadata": {
        "execution": {
          "iopub.execute_input": "2025-07-27T13:56:33.683244Z",
          "iopub.status.busy": "2025-07-27T13:56:33.682965Z",
          "iopub.status.idle": "2025-07-27T13:57:18.181140Z",
          "shell.execute_reply": "2025-07-27T13:57:18.180494Z"
        },
        "papermill": {
          "duration": 44.691654,
          "end_time": "2025-07-27T13:57:18.182521",
          "exception": false,
          "start_time": "2025-07-27T13:56:33.490867",
          "status": "completed"
        },
        "tags": [],
        "id": "d3c93d77"
      },
      "outputs": [],
      "source": [
        "y_true_train, y_pred_train = make_prediction(prep_train)"
      ]
    },
    {
      "cell_type": "code",
      "execution_count": null,
      "id": "5bd40dc9",
      "metadata": {
        "execution": {
          "iopub.execute_input": "2025-07-27T13:57:18.613057Z",
          "iopub.status.busy": "2025-07-27T13:57:18.612780Z",
          "iopub.status.idle": "2025-07-27T13:57:18.794588Z",
          "shell.execute_reply": "2025-07-27T13:57:18.793855Z"
        },
        "papermill": {
          "duration": 0.374566,
          "end_time": "2025-07-27T13:57:18.795721",
          "exception": false,
          "start_time": "2025-07-27T13:57:18.421155",
          "status": "completed"
        },
        "tags": [],
        "id": "5bd40dc9",
        "outputId": "e2f10f20-cc1a-48eb-c52c-c9ceb293e960"
      },
      "outputs": [
        {
          "data": {
            "image/png": "[encoded data removed]",
            "text/plain": [
              "<Figure size 640x480 with 2 Axes>"
            ]
          },
          "metadata": {},
          "output_type": "display_data"
        }
      ],
      "source": [
        "#Plotting confusion matrix for our train dataset\n",
        "plot_confusion_matrix(y_true_train, y_pred_train, 'Train')"
      ]
    },
    {
      "cell_type": "code",
      "execution_count": null,
      "id": "2a5c8144",
      "metadata": {
        "execution": {
          "iopub.execute_input": "2025-07-27T13:57:19.182241Z",
          "iopub.status.busy": "2025-07-27T13:57:19.181968Z",
          "iopub.status.idle": "2025-07-27T13:57:19.186446Z",
          "shell.execute_reply": "2025-07-27T13:57:19.185732Z"
        },
        "papermill": {
          "duration": 0.199587,
          "end_time": "2025-07-27T13:57:19.187493",
          "exception": false,
          "start_time": "2025-07-27T13:57:18.987906",
          "status": "completed"
        },
        "tags": [],
        "id": "2a5c8144",
        "outputId": "988ae080-a583-4e66-bab6-ba53107e2bfb"
      },
      "outputs": [
        {
          "name": "stdout",
          "output_type": "stream",
          "text": [
            "@billy_hodge Aurora theater shooting trial: Gunman expected notoriety for mass murder and nothing else  http://t.co/1RPCHRu72C Real target: Not a disaster Predicted value : Disaster\n",
            "Lol The real issue is the the way the NFL is trying to ruin this guy's legacy. https://t.co/s107ee7CYC Real target: Disaster Predicted value : Not a disaster\n",
            "Maailiss: Diaporama : sixpenceee: Karymsky Lake is a crater lake located in the Karymsky volcanoåÊinåÊRussia. With aÛ_ http://t.co/4o460Fm8HN Real target: Disaster Predicted value : Not a disaster\n",
            "My biggest fear is disappointing the people who believe in me Real target: Disaster Predicted value : Not a disaster\n",
            "@CortezEra I dead ass screamed when we signed him I couldn't fucking believe it Real target: Disaster Predicted value : Not a disaster\n",
            "@Caitsroberts see U the night wee bArra to get absolutely wrecked ???? Real target: Disaster Predicted value : Not a disaster\n",
            "Mental/Twitter Note: Make sure my smoke alarm battery is up to snuff at all times or face many twitter reminders of changing my battery. Real target: Disaster Predicted value : Not a disaster\n",
            "@hornybigbadwolf -sets the forest on fire- Real target: Disaster Predicted value : Not a disaster\n",
            "U.S National Park Services Tonto National Forest: Stop the Annihilation of the Salt River Wild Horse... https://t.co/MatIJwkzbh via @Change Real target: Disaster Predicted value : Not a disaster\n",
            "@VileLunar I trickshot with a regular controller fucking infinite fading is so harm &gt;:( Real target: Disaster Predicted value : Not a disaster\n"
          ]
        }
      ],
      "source": [
        "#Printing train dataset's misclassified sentances\n",
        "output_predicted_text(y_true_train, y_pred_train, amount=50)"
      ]
    },
    {
      "cell_type": "code",
      "execution_count": null,
      "id": "085a5333",
      "metadata": {
        "execution": {
          "iopub.execute_input": "2025-07-27T13:57:19.580363Z",
          "iopub.status.busy": "2025-07-27T13:57:19.579571Z",
          "iopub.status.idle": "2025-07-27T13:57:19.595316Z",
          "shell.execute_reply": "2025-07-27T13:57:19.594473Z"
        },
        "papermill": {
          "duration": 0.217431,
          "end_time": "2025-07-27T13:57:19.596430",
          "exception": false,
          "start_time": "2025-07-27T13:57:19.378999",
          "status": "completed"
        },
        "tags": [],
        "id": "085a5333",
        "outputId": "a910e8cd-c73d-4ad0-f211-5558841bf14d"
      },
      "outputs": [
        {
          "name": "stdout",
          "output_type": "stream",
          "text": [
            "              precision    recall  f1-score   support\n",
            "\n",
            "         0.0       0.82      0.94      0.88     10404\n",
            "         1.0       0.91      0.72      0.80      7866\n",
            "\n",
            "    accuracy                           0.85     18270\n",
            "   macro avg       0.86      0.83      0.84     18270\n",
            "weighted avg       0.86      0.85      0.84     18270\n",
            "\n"
          ]
        }
      ],
      "source": [
        "print(classification_report(y_true_train, y_pred_train))"
      ]
    },
    {
      "cell_type": "code",
      "execution_count": null,
      "id": "f19ef5ca",
      "metadata": {
        "execution": {
          "iopub.execute_input": "2025-07-27T13:57:20.028064Z",
          "iopub.status.busy": "2025-07-27T13:57:20.027791Z",
          "iopub.status.idle": "2025-07-27T13:57:25.974496Z",
          "shell.execute_reply": "2025-07-27T13:57:25.973874Z"
        },
        "papermill": {
          "duration": 6.189473,
          "end_time": "2025-07-27T13:57:25.976002",
          "exception": false,
          "start_time": "2025-07-27T13:57:19.786529",
          "status": "completed"
        },
        "tags": [],
        "id": "f19ef5ca"
      },
      "outputs": [],
      "source": [
        "y_true_val, y_pred_val = make_prediction(prep_val)"
      ]
    },
    {
      "cell_type": "code",
      "execution_count": null,
      "id": "8b3ab29f",
      "metadata": {
        "execution": {
          "iopub.execute_input": "2025-07-27T13:57:26.355526Z",
          "iopub.status.busy": "2025-07-27T13:57:26.355021Z",
          "iopub.status.idle": "2025-07-27T13:57:26.506475Z",
          "shell.execute_reply": "2025-07-27T13:57:26.505843Z"
        },
        "papermill": {
          "duration": 0.341963,
          "end_time": "2025-07-27T13:57:26.507667",
          "exception": false,
          "start_time": "2025-07-27T13:57:26.165704",
          "status": "completed"
        },
        "tags": [],
        "id": "8b3ab29f",
        "outputId": "00f65881-f41d-41f7-e41a-bda498e54177"
      },
      "outputs": [
        {
          "data": {
            "image/png": "[encoded data removed]",
            "text/plain": [
              "<Figure size 640x480 with 2 Axes>"
            ]
          },
          "metadata": {},
          "output_type": "display_data"
        }
      ],
      "source": [
        "#Plotting confusion matrix for our val dataset\n",
        "plot_confusion_matrix(y_true_val, y_pred_val, 'Validation dataset')"
      ]
    },
    {
      "cell_type": "code",
      "execution_count": null,
      "id": "7cdaf293",
      "metadata": {
        "execution": {
          "iopub.execute_input": "2025-07-27T13:57:26.901421Z",
          "iopub.status.busy": "2025-07-27T13:57:26.900740Z",
          "iopub.status.idle": "2025-07-27T13:57:26.912997Z",
          "shell.execute_reply": "2025-07-27T13:57:26.912366Z"
        },
        "papermill": {
          "duration": 0.212058,
          "end_time": "2025-07-27T13:57:26.914039",
          "exception": false,
          "start_time": "2025-07-27T13:57:26.701981",
          "status": "completed"
        },
        "tags": [],
        "id": "7cdaf293",
        "outputId": "3ac5f34f-b500-4959-cd29-42362bdf0a73"
      },
      "outputs": [
        {
          "name": "stdout",
          "output_type": "stream",
          "text": [
            "              precision    recall  f1-score   support\n",
            "\n",
            "         0.0       0.82      0.92      0.86       874\n",
            "         1.0       0.86      0.73      0.79       649\n",
            "\n",
            "    accuracy                           0.84      1523\n",
            "   macro avg       0.84      0.82      0.83      1523\n",
            "weighted avg       0.84      0.84      0.83      1523\n",
            "\n"
          ]
        }
      ],
      "source": [
        "print(classification_report(y_true_val, y_pred_val))"
      ]
    },
    {
      "cell_type": "code",
      "execution_count": null,
      "id": "7914d29b",
      "metadata": {
        "execution": {
          "iopub.execute_input": "2025-07-27T13:57:27.296062Z",
          "iopub.status.busy": "2025-07-27T13:57:27.295783Z",
          "iopub.status.idle": "2025-07-27T13:57:27.299431Z",
          "shell.execute_reply": "2025-07-27T13:57:27.298871Z"
        },
        "papermill": {
          "duration": 0.195789,
          "end_time": "2025-07-27T13:57:27.300713",
          "exception": false,
          "start_time": "2025-07-27T13:57:27.104924",
          "status": "completed"
        },
        "tags": [],
        "id": "7914d29b",
        "outputId": "0a846dce-aef0-4f34-dece-5990dd732725"
      },
      "outputs": [
        {
          "name": "stdout",
          "output_type": "stream",
          "text": [
            "Courageous and honest analysis of need to use Atomic Bomb in 1945. #Hiroshima70 Japanese military refused surrender. https://t.co/VhmtyTptGR Real target: Disaster Predicted value : Not a disaster\n",
            "Our builder is having a dental emergency. Which has ruined my plan to emotionally blackmail him this afternoon with my bump. Real target: Disaster Predicted value : Not a disaster\n",
            "BMX issues Areal Flood Advisory for Shelby [AL] till Aug 5 9:00 PM CDT http://t.co/62OddEkVLi Real target: Disaster Predicted value : Not a disaster\n",
            "@Zojadelin you literally almost had a head on collision with us today on pilot knob Real target: Not a disaster Predicted value : Disaster\n",
            "connor franta: damn sirens I hope everyone is okay. \n",
            "\n",
            "dan howell: can you PLEASE get MURDERED on ANOTHER STREET Real target: Not a disaster Predicted value : Disaster\n",
            "U.S National Park Services Tonto National Forest: Stop the Annihilation of the Salt River Wild Horse... https://t.co/MatIJwkzbh via @Change Real target: Not a disaster Predicted value : Disaster\n",
            "My #mantra this morning!! Heading out to Make a whirlwind trip down southÛ_ https://t.co/geht4sKI86 Real target: Disaster Predicted value : Not a disaster\n",
            "I gained 3 followers in the last week. You? Know your stats and grow with http://t.co/TIyUliF5c6 Real target: Disaster Predicted value : Not a disaster\n",
            "@VileLunar I trickshot with a regular controller fucking infinite fading is so harm &gt;:( Real target: Disaster Predicted value : Not a disaster\n"
          ]
        }
      ],
      "source": [
        "#Printing val dataset's misclassified sentances\n",
        "output_predicted_text(y_true_val, y_pred_val, amount=50)"
      ]
    },
    {
      "cell_type": "code",
      "execution_count": null,
      "id": "6cc605fb",
      "metadata": {
        "execution": {
          "iopub.execute_input": "2025-07-27T13:57:27.736827Z",
          "iopub.status.busy": "2025-07-27T13:57:27.736182Z",
          "iopub.status.idle": "2025-07-27T13:57:38.280920Z",
          "shell.execute_reply": "2025-07-27T13:57:38.280084Z"
        },
        "papermill": {
          "duration": 10.738465,
          "end_time": "2025-07-27T13:57:38.282403",
          "exception": false,
          "start_time": "2025-07-27T13:57:27.543938",
          "status": "completed"
        },
        "tags": [],
        "id": "6cc605fb",
        "outputId": "03ad7aa9-43d7-4a64-e29b-72bf7cf7e63a"
      },
      "outputs": [
        {
          "name": "stdout",
          "output_type": "stream",
          "text": [
            "\u001b[1m102/102\u001b[0m \u001b[32m━━━━━━━━━━━━━━━━━━━━\u001b[0m\u001b[37m\u001b[0m \u001b[1m9s\u001b[0m 82ms/step\n"
          ]
        }
      ],
      "source": [
        "#Making predictions on the test dataset\n",
        "X_test, _ = replace_special_characters(X_test)\n",
        "y_pred_test = classifier.predict(X_test)\n",
        "y_pred_test = np.argmax(y_pred_test, axis=1)"
      ]
    },
    {
      "cell_type": "code",
      "execution_count": null,
      "id": "74efd0e1",
      "metadata": {
        "execution": {
          "iopub.execute_input": "2025-07-27T13:57:38.680091Z",
          "iopub.status.busy": "2025-07-27T13:57:38.679818Z",
          "iopub.status.idle": "2025-07-27T13:57:38.702260Z",
          "shell.execute_reply": "2025-07-27T13:57:38.701481Z"
        },
        "papermill": {
          "duration": 0.217542,
          "end_time": "2025-07-27T13:57:38.703447",
          "exception": false,
          "start_time": "2025-07-27T13:57:38.485905",
          "status": "completed"
        },
        "tags": [],
        "id": "74efd0e1",
        "outputId": "2df53279-8611-4cae-9eba-4881867b9671"
      },
      "outputs": [
        {
          "name": "stdout",
          "output_type": "stream",
          "text": [
            "Text : b'just happened a terrible car crash', Prediction : Disaster\n",
            "Text : b'heard about earthquake is different cities stay safe everyone', Prediction : Disaster\n",
            "Text : b'there is a forest fire at spot pond geese are fleeing across the street i cannot save them all', Prediction : Disaster\n",
            "Text : b'apocalypse lighting spokane wildfires', Prediction : Disaster\n",
            "Text : b'typhoon soudelor kills in china and taiwan', Prediction : Disaster\n",
            "Text : b'were shakingits an earthquake', Prediction : Disaster\n",
            "Text : b'theyd probably still show more life than arsenal did yesterday eh eh', Prediction : Not a disaster\n",
            "Text : b'hey! how are you', Prediction : Not a disaster\n",
            "Text : b'what a nice hat', Prediction : Not a disaster\n",
            "Text : b'fuck off!', Prediction : Not a disaster\n",
            "Text : b'no i dont like cold!', Prediction : Not a disaster\n",
            "Text : b'nooooooooo! dont do that!', Prediction : Not a disaster\n",
            "Text : b'no dont tell me that!', Prediction : Not a disaster\n",
            "Text : b'what if!', Prediction : Not a disaster\n",
            "Text : b'awesome!', Prediction : Not a disaster\n",
            "Text : b'birmingham wholesale market is ablaze bbc news fire breaks out at birminghams wholesale market [link]', Prediction : Disaster\n",
            "Text : b'sunkxssedharry will you wear shorts for race ablaze ', Prediction : Not a disaster\n",
            "Text : b'previouslyondoyintv toke makinwas marriage crisis sets nigerian twitter ablaze [link]', Prediction : Not a disaster\n",
            "Text : b'check these out [link] [link] [link] [link] nsfw', Prediction : Not a disaster\n",
            "Text : b'psa im splitting my personalities techies follow ablazeco burners follow ablaze', Prediction : Not a disaster\n",
            "Text : b'beware world ablaze sierra leone amp guap', Prediction : Not a disaster\n",
            "Text : b'burning man ablaze! by turban diva [link] via etsy', Prediction : Not a disaster\n",
            "Text : b'not a diss song people will take thing and run with it smh its an eye opener though he is about set the game ablaze cyhitheprynce', Prediction : Not a disaster\n",
            "Text : b'rape victim dies as she sets herself ablaze a yearold girl died of burn injuries as she set herself ablaze [link]', Prediction : Disaster\n",
            "Text : b'setting myself ablaze [link]', Prediction : Not a disaster\n",
            "Text : b'ctvtoronto the bins in front of the field by my house wer set ablaze the other day flames went rite up the hydro pole wonder if it was him', Prediction : Disaster\n",
            "Text : b'nowplaying alfons ablaze on puls radio pulsradio [link]', Prediction : Not a disaster\n",
            "Text : b'burning rahm lets hope city hall builds a giant wooden mayoral effigy feet tall amp sets it ablaze [link] johnkass', Prediction : Not a disaster\n",
            "Text : b'philippaeilhart dhublath hurt but her eyes ablaze with insulted anger', Prediction : Not a disaster\n",
            "Text : b'accident cleared in paturnpike on patp eb between pa and cranberry slow back to traffic [link]', Prediction : Disaster\n",
            "Text : b'just got to love burning your self on a damn curling wand i swear someone needs to take it away from me cuase im just accident prone', Prediction : Not a disaster\n",
            "Text : b'i hate badging shit in accident', Prediction : Not a disaster\n",
            "Text : b' car recorder zeroedge duallens car camera vehicle trafficdriving historyaccident camcorder large re [link]', Prediction : Not a disaster\n",
            "Text : b'coincidence or curse still unresolved secrets from past [link] accident', Prediction : Not a disaster\n",
            "Text : b'trafficsouthe roadpoleast accident on a near lewes is it kingston roundabout rather than a', Prediction : Disaster\n",
            "Text : b'sakumaen if you pretend to feel a certain way the feeling can become genuine all by accident hei darker than black manga anime', Prediction : Not a disaster\n",
            "Text : b'for legal and medical referral service injured call us at accident slipandfall dogbite', Prediction : Disaster\n",
            "Text : b'theres a construction guy working on the disney store and he has huge gauges in his ears that is a bloody accident waiting to happen', Prediction : Not a disaster\n",
            "Text : b'robynjilllian wlsdomteeths i feel like im going to do it on accident teesha is gonna come out', Prediction : Not a disaster\n",
            "Text : b'on the m northbound between junctions j and ja there are currently delays of mins due to an accident c [link]', Prediction : Disaster\n",
            "Text : b'daveoshry soembie so if i say that i met her by accident this week would you be super jelly dave p', Prediction : Not a disaster\n",
            "Text : b'accident hit and run cold at block of se vista ter gresham or [gresham police pg] pdx', Prediction : Disaster\n",
            "Text : b'calumsos this happened on accident but i like it [link]', Prediction : Disaster\n",
            "Text : b'please donate and spread the word! a training accident left the polevaulter kira grnberg a paraplegic [link]', Prediction : Disaster\n",
            "Text : b'please like and share our new page for our indoor trampoline park aftershock opening this fall!! [link]', Prediction : Not a disaster\n",
            "Text : b'bxckylynch foi no roh aftershock las vegas procura no pirate bay que tem', Prediction : Not a disaster\n",
            "Text : b'schoolboy aftershock original mixexcision amp skism sexism far too loud remixfirebeatz schella dear new [link]', Prediction : Not a disaster\n",
            "Text : b' [ir] icemoon [aftershock] [link] djicemoon dubstep trapmusic dnb edm dance ices [link]', Prediction : Not a disaster\n",
            "Text : b'when the aftershock happened nepal we were the last intl team still there in a way we were st responders chief collins lacofd', Prediction : Disaster\n",
            "Text : b' [ir] icemoon [aftershock] [link] djicemoon dubstep trapmusic dnb edm dance ices [link]', Prediction : Not a disaster\n"
          ]
        }
      ],
      "source": [
        "#Printing predictions\n",
        "for prediction, test in zip(y_pred_test[:50], X_test[:50]):\n",
        "    prediction = 'Not a disaster' if prediction == 0 else 'Disaster'\n",
        "    print(f'Text : {test}, Prediction : {prediction}')"
      ]
    },
    {
      "cell_type": "code",
      "execution_count": null,
      "id": "761a314f",
      "metadata": {
        "papermill": {
          "duration": 0.194547,
          "end_time": "2025-07-27T13:57:39.093862",
          "exception": false,
          "start_time": "2025-07-27T13:57:38.899315",
          "status": "completed"
        },
        "tags": [],
        "id": "761a314f"
      },
      "outputs": [],
      "source": []
    }
  ],
  "metadata": {
    "kaggle": {
      "accelerator": "gpu",
      "dataSources": [
        {
          "databundleVersionId": 869809,
          "sourceId": 17777,
          "sourceType": "competition"
        },
        {
          "modelId": 2821,
          "modelInstanceId": 4689,
          "sourceId": 6068,
          "sourceType": "modelInstanceVersion"
        },
        {
          "modelId": 2821,
          "modelInstanceId": 4689,
          "sourceId": 205028,
          "sourceType": "modelInstanceVersion"
        }
      ],
      "dockerImageVersionId": 31040,
      "isGpuEnabled": true,
      "isInternetEnabled": true,
      "language": "python",
      "sourceType": "notebook"
    },
    "kernelspec": {
      "display_name": "Python 3",
      "language": "python",
      "name": "python3"
    },
    "language_info": {
      "codemirror_mode": {
        "name": "ipython",
        "version": 3
      },
      "file_extension": ".py",
      "mimetype": "text/x-python",
      "name": "python",
      "nbconvert_exporter": "python",
      "pygments_lexer": "ipython3",
      "version": "3.11.11"
    },
    "papermill": {
      "default_parameters": {},
      "duration": 917.597063,
      "end_time": "2025-07-27T13:57:42.984840",
      "environment_variables": {},
      "exception": null,
      "input_path": "__notebook__.ipynb",
      "output_path": "__notebook__.ipynb",
      "parameters": {},
      "start_time": "2025-07-27T13:42:25.387777",
      "version": "2.6.0"
    },
    "colab": {
      "provenance": []
    }
  },
  "nbformat": 4,
  "nbformat_minor": 5
}